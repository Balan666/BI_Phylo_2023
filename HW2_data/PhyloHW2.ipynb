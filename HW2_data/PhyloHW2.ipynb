{
 "cells": [
  {
   "cell_type": "code",
   "execution_count": 2,
   "id": "1efc50ad",
   "metadata": {},
   "outputs": [],
   "source": [
    "from Bio import Entrez\n",
    "Entrez.email = 'annabalan267@gmail.com'"
   ]
  },
  {
   "cell_type": "markdown",
   "id": "8f6d8b42",
   "metadata": {},
   "source": [
    "### 1. esearch searches articles in NCBI PubMed"
   ]
  },
  {
   "cell_type": "code",
   "execution_count": 3,
   "id": "f2280160",
   "metadata": {},
   "outputs": [
    {
     "name": "stdout",
     "output_type": "stream",
     "text": [
      "{'Count': '79', 'RetMax': '20', 'RetStart': '0', 'IdList': ['35247793', '35010161', '34436301', '33919403', '33465290', '32851672', '32596057', '32236233', '31813041', '30860355', '29683674', '29178679', '28851818', '26220698', '25797168', '25605312', '24782450', '23570752', '23510436', '23441225'], 'TranslationSet': [{'From': 'crustacyanin', 'To': '\"crustacyanin\"[All Fields] OR \"crustacyanins\"[Supplementary Concept] OR \"crustacyanins\"[All Fields]'}], 'QueryTranslation': '\"crustacyanin\"[All Fields] OR \"crustacyanins\"[Supplementary Concept] OR \"crustacyanins\"[All Fields]'}\n"
     ]
    }
   ],
   "source": [
    "handle = Entrez.esearch(db = \"pubmed\", term = \"crustacyanin\")\n",
    "record = Entrez.read(handle)\n",
    "print(record)"
   ]
  },
  {
   "cell_type": "markdown",
   "id": "d101e298",
   "metadata": {},
   "source": [
    "### 2. efetch returns abstracts of 3 first articles"
   ]
  },
  {
   "cell_type": "code",
   "execution_count": 4,
   "id": "a71f6219",
   "metadata": {},
   "outputs": [
    {
     "name": "stdout",
     "output_type": "stream",
     "text": [
      "1. Comp Biochem Physiol Part D Genomics Proteomics. 2022 Jun;42:100977. doi: \n",
      "10.1016/j.cbd.2022.100977. Epub 2022 Feb 16.\n",
      "\n",
      "Searching and identifying pigmentation genes from Neocaridina denticulate \n",
      "sinensis via comparison of transcriptome in different color strains.\n",
      "\n",
      "Lin S(1), Zhang L(2), Wang G(1), Huang S(1), Wang Y(1).\n",
      "\n",
      "Author information:\n",
      "(1)Key Laboratory of Healthy Mariculture for the East China Sea, Ministry of \n",
      "Agriculture, Fisheries College, Jimei University, Xiamen 361021, China.\n",
      "(2)Key Laboratory of Healthy Mariculture for the East China Sea, Ministry of \n",
      "Agriculture, Fisheries College, Jimei University, Xiamen 361021, China. \n",
      "Electronic address: llzhang@jmu.edu.cn.\n",
      "\n",
      "Aquaria species are characterized by their amazing colors and patterns. Research \n",
      "on the breeding molecular genetics of ornamental shrimps is surprisingly \n",
      "limited. We conducted a transcriptome analysis to investigate the expression of \n",
      "encoding genes in the integument of the strains Neocaridina denticulate \n",
      "sinensis. After assembled and filtered, 19,992 unigenes were annotated by \n",
      "aligning with public functional databases (NR, Swiss-Prot, KEGG, COG). 14,915 \n",
      "unigenes with significantly different expressions were found by comparing three \n",
      "strains integument transcriptomes. Ribosomal protein genes, ABC transporter \n",
      "families, calmodulin, carotenoid proteins and crustacyanin may play roles in the \n",
      "cytological process of pigment migration and chromatophore maintenance. Numerous \n",
      "color genes associated with multiple pathways including melanin, ommochrome and \n",
      "pteridines pathways were identified. The expression patterns of 25 candidate \n",
      "genes were analysis by qPCR in red, yellow, transparent and glass strains. The \n",
      "qPCR results in red, yellow and transparent were consistent with the level of \n",
      "RPKM values in the transcriptomes. The above results will advance our knowledge \n",
      "of integument color varieties in N. denticulate sinensis and help the genetic \n",
      "selection of crustaceans with consumer-favored colors. Furthermore, it also \n",
      "provides some candidate pigmentation genes to investigate the correlation \n",
      "between coloration and sympatric speciation in crustaceans.\n",
      "\n",
      "Copyright © 2022. Published by Elsevier Inc.\n",
      "\n",
      "DOI: 10.1016/j.cbd.2022.100977\n",
      "PMID: 35247793 [Indexed for MEDLINE]\n",
      "\n",
      "\n",
      "2. Foods. 2021 Dec 23;11(1):35. doi: 10.3390/foods11010035.\n",
      "\n",
      "Purification and Characterisation of Two Novel Pigment Proteins from the \n",
      "Carapace of Red Swamp Crayfish (Procambarus clarkii).\n",
      "\n",
      "Chen H(1)(2), Ji H(1)(3)(4)(5)(6), Pan C(6)(7), Zhang D(1)(3)(4)(5), Su \n",
      "W(1)(3)(4)(5), Liu S(1)(3)(4)(5)(6), Deng Y(1), Huang X(1).\n",
      "\n",
      "Author information:\n",
      "(1)Guangdong Provincial Key Laboratory of Aquatic Product Processing and Safety, \n",
      "College of Food Science and Technology, Guangdong Ocean University, Zhanjiang \n",
      "524088, China.\n",
      "(2)Hunan Provincial Key Laboratory of Soybean Products Processing and Safety \n",
      "Control, College of Food and Chemical Engineering, Shaoyang University, Shaoyang \n",
      "422000, China.\n",
      "(3)Guangdong Provincial Engineering Technology Research Center of Seafood, \n",
      "College of Food Science and Technology, Guangdong Ocean University, Zhanjiang \n",
      "524088, China.\n",
      "(4)Guangdong Province Engineering Laboratory for Marine Biological Products, \n",
      "College of Food Science and Technology, Guangdong Ocean University, Zhanjiang \n",
      "524088, China.\n",
      "(5)Key Laboratory of Advanced Processing of Aquatic Product of Guangdong Higher \n",
      "Education Institution, College of Food Science and Technology, Guangdong Ocean \n",
      "University, Zhanjiang 524088, China.\n",
      "(6)Collaborative Innovation Center of Seafood Deep Processing, Dalian \n",
      "Polytechnic University, Dalian 116034, China.\n",
      "(7)South China Sea Fisheries Research Institute, Chinese Academy of Fishery \n",
      "Sciences, Guangzhou 510300, China.\n",
      "\n",
      "Pigment proteins play a vital role in the red colour change of the red swamp \n",
      "crayfish (Procambarus clarkii) shell after cooking. In this study, two \n",
      "red-change-related pigment proteins with molecular weights of approximately 170 \n",
      "and 43 kDa-denoted as F1 and F2, respectively-were purified by ammonium sulphate \n",
      "salting-out and size exclusion chromatography. F1 and F2 entirely comprised \n",
      "homomultimeric protein complexes composed of 21 kDa subunits. LC-MS/MS analysis \n",
      "showed that the 21 kDa protein subunit belonged to the crustacyanin family, \n",
      "named P. clarkii crustacyanin A2 (PcCRA2). The full-length cDNA of PcCRA2 was \n",
      "cloned, which encoded 190 amino acid residues and was highly homologous (91.58%) \n",
      "with Cherax quadricarinatus crustacyanin A. The predicted 3D structure showed \n",
      "that PcCRA2 had a β-barrel structure for pigment encapsulation. The colour \n",
      "change of F1 was first detected at 40 °C, and the red change occurred upon \n",
      "heating above 60 °C. Additionally, with increasing temperature, its β-sheet \n",
      "content increased, and its α-helix content reduced. Correlation analysis showed \n",
      "that the redness value of F1 was significantly related to the heating \n",
      "temperature and the β-sheet content.\n",
      "\n",
      "DOI: 10.3390/foods11010035\n",
      "PMCID: PMC8750329\n",
      "PMID: 35010161\n",
      "\n",
      "Conflict of interest statement: The authors have declared no conflict of \n",
      "interest in this study.\n",
      "\n",
      "\n",
      "3. Mar Drugs. 2021 Aug 16;19(8):462. doi: 10.3390/md19080462.\n",
      "\n",
      "A Method of Solubilizing and Concentrating Astaxanthin and Other Carotenoids.\n",
      "\n",
      "Hara KY(1)(2), Yagi S(1), Hirono-Hara Y(2), Kikukawa H(1)(2).\n",
      "\n",
      "Author information:\n",
      "(1)Laboratory of Environmental Bioengineering, Graduate Division of Nutritional \n",
      "and Environmental Sciences, University of Shizuoka, 52-1 Yada, Suruga-ku, \n",
      "Shizuoka 422-8526, Japan.\n",
      "(2)Department of Environmental and Life Sciences, School of Food and Nutritional \n",
      "Sciences, University of Shizuoka, 52-1 Yada, Suruga-ku, Shizuoka 422-8526, \n",
      "Japan.\n",
      "\n",
      "The valuable marine carotenoid, astaxanthin, is used in supplements, medicines \n",
      "and cosmetics. In this study, crustacyanin, an astaxanthin-binding protein, was \n",
      "used to solubilize and concentrate astaxanthin. The recombinant crustacyanin of \n",
      "European lobster spontaneously formed an inclusion body when it was \n",
      "over-expressed in Escherichia coli. In this study, fusing the NusA-tag to the \n",
      "crustacyanin subunits made it possible to express in a soluble fraction and \n",
      "solubilize astaxanthin in aqueous solution. By cutting off the NusA-tag, the \n",
      "crustacyanin subunits generated the pure insoluble form, and captured and \n",
      "concentrated astaxanthin. Overall, the attaching and releasing NusA-tag method \n",
      "has the potential to supply solubilized carotenoids in aqueous solution and \n",
      "concentrated carotenoids, respectively.\n",
      "\n",
      "DOI: 10.3390/md19080462\n",
      "PMCID: PMC8399374\n",
      "PMID: 34436301 [Indexed for MEDLINE]\n",
      "\n",
      "Conflict of interest statement: The authors declare no financial or commercial \n",
      "conflict of interest.\n"
     ]
    }
   ],
   "source": [
    "mshandle = Entrez.efetch(db=\"pubmed\", id=record[\"IdList\"][0:3], rettype=\"abstract\", retmode=\"text\")\n",
    "print(mshandle.read())"
   ]
  },
  {
   "cell_type": "markdown",
   "id": "6450a221",
   "metadata": {},
   "source": [
    "### 3. esearch searches in the base all the sequences for a certain gene and species, returning a list if IDs"
   ]
  },
  {
   "cell_type": "code",
   "execution_count": 11,
   "id": "a135fca4",
   "metadata": {},
   "outputs": [
    {
     "name": "stdout",
     "output_type": "stream",
     "text": [
      "{'Count': '19', 'RetMax': '19', 'RetStart': '0', 'IdList': ['2065206281', '2065193120', '2065190079', '2065188392', '2065186734', '2065171964', '2065159855', '2065028193', '2056514813', '2056498811', '2056493211', '2056492151', '2056488359', '2056483089', '2056467578', '2056465480', '2056439345', '48433440', '48432807'], 'TranslationSet': [{'From': 'Homarus[orgn]', 'To': '\"Homarus\"[Organism]'}], 'TranslationStack': [{'Term': 'crustacyanin[All Fields]', 'Field': 'All Fields', 'Count': '174', 'Explode': 'N'}, {'Term': '\"Homarus\"[Organism]', 'Field': 'Organism', 'Count': '128126', 'Explode': 'Y'}, 'AND'], 'QueryTranslation': 'crustacyanin[All Fields] AND \"Homarus\"[Organism]'}\n"
     ]
    },
    {
     "data": {
      "text/plain": [
       "<_io.TextIOWrapper encoding='UTF-8'>"
      ]
     },
     "execution_count": 11,
     "metadata": {},
     "output_type": "execute_result"
    }
   ],
   "source": [
    "handle = Entrez.esearch(db = \"nucleotide\", term = \"crustacyanin AND Homarus[orgn]\") #orgn=organism\n",
    "record = Entrez.read(handle)\n",
    "print(record)\n",
    "Entrez.efetch(db = \"nucleotide\", id = record[\"IdList\"])"
   ]
  },
  {
   "cell_type": "markdown",
   "id": "a24b9a5f",
   "metadata": {},
   "source": [
    "### searches taxon ID with a given name"
   ]
  },
  {
   "cell_type": "code",
   "execution_count": 9,
   "id": "92fb2ecf",
   "metadata": {},
   "outputs": [
    {
     "name": "stdout",
     "output_type": "stream",
     "text": [
      "{'Count': '1', 'RetMax': '1', 'RetStart': '0', 'IdList': ['6706'], 'TranslationSet': [], 'TranslationStack': [{'Term': 'Homarus americanus[All Names]', 'Field': 'All Names', 'Count': '1', 'Explode': 'N'}, 'GROUP'], 'QueryTranslation': 'Homarus americanus[All Names]'}\n",
      "['6706']\n"
     ]
    }
   ],
   "source": [
    "handle = Entrez.esearch(db = \"taxonomy\", term = \"Homarus americanus\")\n",
    "record = Entrez.read(handle)\n",
    "print(record)\n",
    "print(record['IdList'])"
   ]
  },
  {
   "cell_type": "markdown",
   "id": "2a80b7d7",
   "metadata": {},
   "source": [
    "### 4. esearch+summary searches in database of proteins and nucl sequences with a name of a protein. Returns UID. actually its XML parcing."
   ]
  },
  {
   "cell_type": "code",
   "execution_count": 20,
   "id": "cc93d476",
   "metadata": {
    "scrolled": true
   },
   "outputs": [
    {
     "name": "stdout",
     "output_type": "stream",
     "text": [
      "2068680993\tXP_042236484\t197\n",
      "2068680990\tXP_042236483\t190\n",
      "2068650119\tXP_042225885\t190\n",
      "2068650116\tXP_042225884\t197\n",
      "2068642615\tXP_042227234\t190\n",
      "2068642613\tXP_042227223\t197\n",
      "2068642611\tXP_042227211\t190\n",
      "2068642608\tXP_042227198\t197\n",
      "2068642605\tXP_042227187\t190\n",
      "2068642602\tXP_042227176\t197\n",
      "2056515232\tKAG7177238\t197\n",
      "2056515231\tKAG7177237\t190\n",
      "2056515230\tKAG7177236\t197\n",
      "2056515229\tKAG7177235\t190\n",
      "2056515228\tKAG7177234\t197\n",
      "2056515227\tKAG7177233\t190\n",
      "2056483091\tKAG7166898\t197\n",
      "2056483090\tKAG7166897\t190\n",
      "2056467580\tKAG7160784\t197\n",
      "2056467579\tKAG7160783\t190\n"
     ]
    }
   ],
   "source": [
    "handle = Entrez.esearch(db=\"protein\", term=\"crustacyanin AND Homarus americanus[orgn]\")\n",
    "record = Entrez.read(handle)\n",
    "for rec in record[\"IdList\"]:\n",
    "        temphandle = Entrez.read(Entrez.esummary(db=\"protein\", id=rec, retmode=\"text\"))\n",
    "        print(temphandle[0]['Id']+\"\\t\"+temphandle[0]['Caption']+\"\\t\"+str(temphandle[0]['Length']))#+\"\\n\")\n",
    "##str(int(temphandle[0]['Length'])))"
   ]
  },
  {
   "cell_type": "markdown",
   "id": "302dcaee",
   "metadata": {},
   "source": [
    "### 5. returns fasta and writes it in a file"
   ]
  },
  {
   "cell_type": "code",
   "execution_count": 21,
   "id": "26715f51",
   "metadata": {},
   "outputs": [
    {
     "name": "stdout",
     "output_type": "stream",
     "text": [
      "['>XP_042236484.1 crustacyanin-C1 subunit-like [Homarus americanus]\\n', 'MNSLSILLVFVASVAADKIPDFVVPGKCASVDRNKLWAEQTPNRNNYAGVWYQFALTNNPYQLIEKCVRN\\n', 'EYSFDGEQFVITSTGIAYDGNLLKRNGKLYPNPFGEPHLSIDYENSFAAPLVILETDYSNYACLYSCIDY\\n', 'NFGYHSDFSFIFSRSANLAEQYVKKCEAAFKNINVDTTRFVKTVQGSSCPYDTQKTL\\n', '\\n']\n"
     ]
    }
   ],
   "source": [
    "handle = Entrez.esearch(db=\"protein\", term=\"crustacyanin AND Homarus americanus[orgn]\")\n",
    "record = Entrez.read(handle)\n",
    "\n",
    "Entrez.efetch(db=\"protein\", id=record[\"IdList\"], retmode=\"text\", rettype=\"fasta\").read()\n",
    "with open(\"crcn.fasta\", \"w\") as ouf:\n",
    "    for rec in record[\"IdList\"]:\n",
    "        lne = Entrez.efetch(db=\"protein\", id=rec, retmode=\"text\", rettype=\"fasta\").read()\n",
    "        ouf.write(lne+\"\\n\")\n",
    "with open(\"crcn.fasta\", \"r\") as fastaf:\n",
    "    snippet = [next(fastaf) for x in range(5)]\n",
    "    print(snippet)"
   ]
  },
  {
   "cell_type": "markdown",
   "id": "fba896fe",
   "metadata": {},
   "source": [
    "### 6. downloads a protein, takes a UID of a nucleotide"
   ]
  },
  {
   "cell_type": "code",
   "execution_count": 23,
   "id": "bacd088d",
   "metadata": {},
   "outputs": [],
   "source": [
    "lhandle = Entrez.elink(dbfrom=\"nucleotide\", db=\"protein\", id=\"2065188392\")\n",
    "lrecord = Entrez.read(lhandle)\n",
    "prothandle = lrecord[0][\"LinkSetDb\"][0]['Link'][0]['Id']\n",
    "rrecord = Entrez.efetch(db=\"protein\", id=prothandle, rettype=\"fasta\", retmode=\"text\")\n",
    "with open (\"prot_from_nt.fasta\", \"w\") as ouf:\n",
    "    ouf.write(rrecord.read()+\"\\n\")"
   ]
  },
  {
   "cell_type": "markdown",
   "id": "3348f057",
   "metadata": {},
   "source": [
    "### 7. Downloads fasta sequences from a work with PMID (e.g. fron the first task)"
   ]
  },
  {
   "cell_type": "code",
   "execution_count": 24,
   "id": "7320cb4a",
   "metadata": {},
   "outputs": [],
   "source": [
    "lhandle = Entrez.elink(dbfrom=\"pubmed\", db=\"nucleotide\", id=\"20558169\")\n",
    "lrecord = Entrez.read(lhandle)\n",
    "ids = []\n",
    "for el in lrecord[0][\"LinkSetDb\"][0][\"Link\"]:\n",
    "    ids.append(el['Id'])\n",
    "rrecord = Entrez.efetch(db=\"nucleotide\", id=ids[:4], rettype=\"fasta\", retmode=\"text\")\n",
    "with open (\"py_fasta_pmid.fasta\", \"w\") as ouf:\n",
    "    ouf.write(rrecord.read()+\"\\n\")"
   ]
  },
  {
   "cell_type": "code",
   "execution_count": null,
   "id": "9ca195fb",
   "metadata": {},
   "outputs": [],
   "source": []
  }
 ],
 "metadata": {
  "kernelspec": {
   "display_name": "Python 3 (ipykernel)",
   "language": "python",
   "name": "python3"
  },
  "language_info": {
   "codemirror_mode": {
    "name": "ipython",
    "version": 3
   },
   "file_extension": ".py",
   "mimetype": "text/x-python",
   "name": "python",
   "nbconvert_exporter": "python",
   "pygments_lexer": "ipython3",
   "version": "3.9.13"
  }
 },
 "nbformat": 4,
 "nbformat_minor": 5
}
